{
  "nbformat": 4,
  "nbformat_minor": 0,
  "metadata": {
    "colab": {
      "name": "NETS 213 HW 6 CSV Script",
      "provenance": [],
      "collapsed_sections": []
    },
    "kernelspec": {
      "name": "python3",
      "display_name": "Python 3"
    },
    "language_info": {
      "name": "python"
    }
  },
  "cells": [
    {
      "cell_type": "markdown",
      "metadata": {
        "id": "IValz_DP8vJ2"
      },
      "source": [
        "HOMEWORK 6: Replicate Science\n",
        "\n",
        "Ibrahim Fagbamila, Izzy Kim, Nick Ng, Susan Xie\n"
      ]
    },
    {
      "cell_type": "code",
      "metadata": {
        "id": "xwJK_u3jp06S"
      },
      "source": [
        "!pip install selenium\n",
        "!apt-get update # to update ubuntu to correctly run apt install\n",
        "!apt install chromium-chromedriver\n",
        "!cp /usr/lib/chromium-browser/chromedriver /usr/bin\n",
        "import sys\n",
        "sys.path.insert(0,'/usr/lib/chromium-browser/chromedriver')\n",
        "from selenium import webdriver\n",
        "chrome_options = webdriver.ChromeOptions()\n",
        "chrome_options.add_argument('--headless')\n",
        "chrome_options.add_argument('--no-sandbox')\n",
        "chrome_options.add_argument('--disable-dev-shm-usage')\n",
        "import requests\n",
        "\n",
        "from bs4 import BeautifulSoup\n",
        "\n",
        "import time"
      ],
      "execution_count": null,
      "outputs": []
    },
    {
      "cell_type": "code",
      "metadata": {
        "colab": {
          "base_uri": "https://localhost:8080/"
        },
        "id": "MoZ6Vq7r90zc",
        "outputId": "23133725-62c5-4879-88c8-e3e1ca47b3db"
      },
      "source": [
        "# page = requests.get(\"https://codedamn.com\")\n",
        "# soup = BeautifulSoup(page.content, 'html.parser')\n",
        "# title = soup.title.text # gets you the text of the <title>(...)</title>\n",
        "# page_body = soup.body\n",
        "# page_imgs = soup.select('img')\n",
        "\n",
        "# table = ''\n",
        "\n",
        "\n",
        "\n",
        "\n",
        "\n",
        "## actual code below\n",
        "\n",
        "def src_to_letter(src):\n",
        "  if 'a.png' in src:\n",
        "    return 'a'\n",
        "  elif 'b.png' in src:\n",
        "    return 'b'\n",
        "  elif 'c.png' in src:\n",
        "    return 'c'\n",
        "  elif 'd.png' in src:\n",
        "    return 'd'\n",
        "\n",
        "def elem_to_letter(elem):\n",
        "  if 'First' in elem:\n",
        "    return 'First'\n",
        "  elif 'Second' in elem:\n",
        "    return 'Second'\n",
        "  elif 'Third' in elem:\n",
        "    return 'Third'\n",
        "  elif 'Fourth' in elem:\n",
        "    return 'Fourth'\n",
        "\n",
        "\n",
        "# this is the number of \n",
        "GLOBAL_LIMIT = 2\n",
        "rows = 0\n",
        "\n",
        "\n",
        "browser = webdriver.Chrome('chromedriver', chrome_options=chrome_options)\n",
        "filename = './untitled.html'\n",
        "with open(filename, 'r') as file:\n",
        "    file_text = file.read().replace('\\n', '')\n",
        "\n",
        "soup = BeautifulSoup(file_text, 'html.parser')\n",
        "\n",
        "results_table = soup.find(id='results_table')\n",
        "\n",
        "table_body = results_table.contents[3]\n",
        "\n",
        "correct_list_order = []\n",
        "user_responded_order = [] \n",
        "for tr in table_body.contents:\n",
        "  if tr.string == None and rows <= 40: # this is an actual row with data\n",
        "    rows += 1\n",
        "    # get contents of the worker input\n",
        "    #TODO: code\n",
        "    # if len(tr.contents) == 21: #2 answer columns\n",
        "    # print(\"_______\")\n",
        "    # tr.contents[17].text # first response cell\n",
        "    # tr.contents[19].text # second response cell\n",
        "    # tr.contents[21].text # third response cell\n",
        "    # tr.contents[23].text # fourth response cell\n",
        "    # tr.contents[25].text # fifth response cell\n",
        "    # tr.contents[27].text # sixth response cell\n",
        "    # tr.contents[29].text # seventh response cell\n",
        "    # tr.contents[31].text # eighth response cell\n",
        "    temp = tr.contents[17:]\n",
        "    temp = [elem_to_letter(elem.text) for elem in temp if not elem == ' ' ]\n",
        "    temp = list(filter(lambda a: not a == None, temp))\n",
        "    user_responded_order.append(temp[:GLOBAL_LIMIT])\n",
        "    #######\n",
        "    url = tr.contents[3].contents[1].get('href')\n",
        "    if 'https' in url:\n",
        "      # print(url)\n",
        "      browser.get(url)\n",
        "      HIT_soup = BeautifulSoup(browser.page_source, \"html.parser\")\n",
        "      page_imgs = HIT_soup.find_all('img', limit=GLOBAL_LIMIT)\n",
        "      # print(page_imgs)\n",
        "      temp = []  \n",
        "      for img in page_imgs:\n",
        "        temp.append(src_to_letter(img.get('src')))\n",
        "      correct_list_order.append(temp)\n",
        "\n",
        "print('done')"
      ],
      "execution_count": null,
      "outputs": [
        {
          "output_type": "stream",
          "text": [
            "/usr/local/lib/python3.7/dist-packages/ipykernel_launcher.py:41: DeprecationWarning: use options instead of chrome_options\n"
          ],
          "name": "stderr"
        },
        {
          "output_type": "stream",
          "text": [
            "done\n"
          ],
          "name": "stdout"
        }
      ]
    },
    {
      "cell_type": "code",
      "metadata": {
        "colab": {
          "base_uri": "https://localhost:8080/"
        },
        "id": "4z0pMe7hn-GH",
        "outputId": "357604c5-6be1-4e59-9fb0-467f0653e48d"
      },
      "source": [
        "print(\"Correct_list_order:\")\n",
        "print(correct_list_order)\n",
        "print(\"User response order\")\n",
        "print(user_responded_order)\n"
      ],
      "execution_count": null,
      "outputs": [
        {
          "output_type": "stream",
          "text": [
            "Correct_list_order:\n",
            "[['b', 'c'], ['b', 'a'], ['c', 'a'], ['d', 'b'], ['d', 'c'], ['b', 'd'], ['d', 'c'], ['b', 'c'], ['d', 'b'], ['d', 'a'], ['c', 'b'], ['a', 'c'], ['c', 'a'], ['b', 'd'], ['a', 'd'], ['d', 'a'], ['a', 'b'], ['d', 'c'], ['b', 'c'], ['b', 'c'], ['b', 'c'], ['d', 'a'], ['c', 'b'], ['b', 'a'], ['a', 'd'], ['a', 'd'], ['c', 'd'], ['c', 'd'], ['c', 'a'], ['c', 'a'], ['c', 'a'], ['d', 'b'], ['b', 'a'], ['b', 'a'], ['c', 'a'], ['d', 'c'], ['a', 'd']]\n",
            "User response order\n",
            "[['First', 'Second'], ['First', 'Second'], ['Second', 'First'], ['First', 'Second'], ['Second', 'First'], ['Second', 'First'], ['Second', 'First'], ['Second', 'First'], ['First', 'Second'], ['First', 'Second'], ['Second', 'First'], ['First', 'Second'], ['Second', 'First'], ['Second', 'First'], ['First', 'Second'], ['Second', 'First'], ['Second', 'First'], ['First', 'Second'], ['First', 'Second'], ['First', 'Second'], ['Second', 'First'], ['Second', 'First'], ['Second', 'First'], ['Second', 'First'], ['Second', 'First'], ['Second', 'First'], ['First', 'Second'], ['Second', 'First'], ['Second', 'First'], ['First', 'Second'], ['First', 'Second'], ['Second', 'First'], ['First', 'Second'], ['Second', 'First'], ['First', 'Second'], ['Second', 'First'], ['Second', 'First'], []]\n"
          ],
          "name": "stdout"
        }
      ]
    },
    {
      "cell_type": "code",
      "metadata": {
        "id": "oUqwL0Ouqmru"
      },
      "source": [
        "user_responded_order = [a for a in user_responded_order if not a == []]"
      ],
      "execution_count": null,
      "outputs": []
    },
    {
      "cell_type": "code",
      "metadata": {
        "colab": {
          "base_uri": "https://localhost:8080/"
        },
        "id": "jmJs6HzNgetG",
        "outputId": "df54b8f4-5d5f-4b06-ea7d-8740c4a461c7"
      },
      "source": [
        "# check accuracy\n",
        "\n",
        "#['b', 'd', 'a']\n",
        "#['Second', 'Third', 'First'] => [2, 0, 1] =^^\n",
        "final_accuracy = 0\n",
        "for ix,user_response in enumerate(user_responded_order):\n",
        "  temp_list =[]\n",
        "  if 'First' in user_response:\n",
        "    first_index = user_response.index('First')\n",
        "    temp_list.append(first_index)\n",
        "  if 'Second' in user_response:\n",
        "    second_index = user_response.index('Second')\n",
        "    temp_list.append(second_index) \n",
        "  if 'Third' in user_response:\n",
        "    third_index = user_response.index('Third')\n",
        "    temp_list.append(third_index)\n",
        "  if 'Fourth' in user_response:\n",
        "    fourth_index = user_response.index('Fourth')\n",
        "    temp_list.append(fourth_index)   \n",
        "\n",
        "  results = [correct_list_order[ix][i] for i in temp_list]\n",
        "  \n",
        "  if results == sorted(correct_list_order[ix]):\n",
        "    final_accuracy += 1\n",
        "print(final_accuracy/len(user_responded_order))\n",
        "\n",
        "  #yes no no yes no\n",
        "\n"
      ],
      "execution_count": null,
      "outputs": [
        {
          "output_type": "stream",
          "text": [
            "0.5135135135135135\n"
          ],
          "name": "stdout"
        }
      ]
    }
  ]
}